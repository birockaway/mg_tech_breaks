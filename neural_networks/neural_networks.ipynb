{
 "cells": [
  {
   "cell_type": "code",
   "execution_count": 136,
   "metadata": {},
   "outputs": [
    {
     "data": {
      "text/html": [
       "<script type=\"text/javascript\">window.PlotlyConfig = {MathJaxConfig: 'local'};</script><script type=\"text/javascript\">if (window.MathJax) {MathJax.Hub.Config({SVG: {font: \"STIX-Web\"}});}</script><script>requirejs.config({paths: { 'plotly': ['https://cdn.plot.ly/plotly-latest.min']},});if(!window._Plotly) {require(['plotly'],function(plotly) {window._Plotly=plotly;});}</script>"
      ],
      "text/vnd.plotly.v1+html": [
       "<script type=\"text/javascript\">window.PlotlyConfig = {MathJaxConfig: 'local'};</script><script type=\"text/javascript\">if (window.MathJax) {MathJax.Hub.Config({SVG: {font: \"STIX-Web\"}});}</script><script>requirejs.config({paths: { 'plotly': ['https://cdn.plot.ly/plotly-latest.min']},});if(!window._Plotly) {require(['plotly'],function(plotly) {window._Plotly=plotly;});}</script>"
      ]
     },
     "metadata": {},
     "output_type": "display_data"
    }
   ],
   "source": [
    "from plotly import __version__\n",
    "from plotly.offline import download_plotlyjs, init_notebook_mode, plot, iplot\n",
    "import plotly.graph_objs as go\n",
    "init_notebook_mode(connected=True)\n",
    "from sklearn.datasets import fetch_openml\n",
    "from sklearn.neural_network import MLPClassifier\n",
    "from sklearn.model_selection import train_test_split\n",
    "from sklearn.metrics import mean_squared_error\n",
    "import numpy as np\n",
    "import pandas as pd \n",
    "from PIL import Image\n",
    "from matplotlib.pyplot import imshow"
   ]
  },
  {
   "cell_type": "markdown",
   "metadata": {},
   "source": [
    "# [Artificial Neural Networks](https://en.wikipedia.org/wiki/Artificial_neural_network)\n",
    "\n",
    "### What is it?\n",
    "It is a non-parametric classification / regression model which mimics biological neural networks architecture.\n",
    "\n",
    "### When do I use it?\n",
    "I want to predict / classify a response variable based on arbitrary data. Be it countinous (regression problem) or categorical (classification problem) response. NN model is especialy suitable when I want to classify N-dimensional objects like images. When I do Natural Language Processing.\n",
    "\n",
    "### Why should I use it?\n",
    "It can discover and incorporate implicit attributes like edgeness, curvature in images / sentiment, familyness in text.\n",
    "\n",
    "### Why should I NOT use it?\n",
    "Training lots of parameters and hyperparameters including number of layers and number of Neurons in each layer can be computationaly expensive."
   ]
  },
  {
   "cell_type": "markdown",
   "metadata": {},
   "source": [
    "# How does it work?\n",
    "\n",
    "* Neural Network is a set of real valued nodes (Neurons), conected to each other forming layers.\n",
    "\n",
    "\n",
    "* First layer is input vector $X$, last one is output $y$. Other layers of Neurons are called hidden layers.\n",
    "\n",
    "\n",
    "* Value of j-th Neuron $a_j^{(L)}$ in L-th layer is computed by $a_j^{(L)} = \\sigma (\\sum_i a_i^{(L-1)}*w_{ij}^{(L-1)} + b_j$)\n",
    "\n",
    "\n",
    "* $\\sigma$ is called an activation function. Often it is a sigmoid like $\\sigma_1(t) = \\frac{1}{1+\\exp(-t)}$ or a ReLU function $\\sigma_2(t) = min(0, t)$.\n",
    "\n",
    "\n",
    "* Classcal design of NN where each Neuron in L-th layer is connected to all Neurons in (L+1)-th layer is called Multi Layer Perceptron."
   ]
  },
  {
   "cell_type": "markdown",
   "metadata": {},
   "source": [
    "## Single Neuron img\n",
    "<img src=\"neuron_example.png\" alt=\"Drawing\" style=\"width: 300px;\"/>"
   ]
  },
  {
   "cell_type": "markdown",
   "metadata": {},
   "source": [
    "## Multi Layer Perceptron img\n",
    "<img src=\"nn_example.png\" alt=\"Drawing\" style=\"width: 600px;\"/>"
   ]
  },
  {
   "cell_type": "markdown",
   "metadata": {},
   "source": [
    "## How is it trained?\n",
    "\n",
    "In order to train the model, you need to fit quite a lot of parameters - all the weights and biases. **For fitting them we use gradient descent method called back propagation**.\n",
    "\n",
    "### Back propagation \n",
    "\n",
    "* First we define our Loss function $L$. It could be for example mean squared error $L = \\sum (a_j - y_j)^2$ or a Cross-Entropy.\n",
    "\n",
    "\n",
    "* The negative gradient of L is then computed by chain rule. \n",
    "\n",
    "\n",
    "* We define $z^{(L)} = w^{(L)}a^{(L-1)}+b^{(L)}$ and $a^{(L)} = \\sigma (z^{(L)})$.\n",
    "\n",
    "\n",
    "* For computing the influence of weight $w_{jk}^{(L)}$, connecting neuron $a_j^{(L-1)}$ to a output neuron $a_k^{(L)}$ we get $\\frac{\\partial L}{\\partial w_{jk}^{(L)}} = \\frac{\\partial L}{\\partial a_{j}^{(L)}} \\frac{\\partial a_{j}^{(L)}}{\\partial z_{j}^{(L)}} \\frac{\\partial z_{j}^{(L)}}{\\partial w_{jk}^{(L)}}$.\n",
    "\n",
    "\n",
    "* This partial derivative we compute for all the $w$ and $b$ and thus we optain a gradient $\\nabla$ for single given training row.\n",
    "\n",
    "\n",
    "* We do this for a small batch of N training datapoints -> make the avarage $\\bar{\\nabla} = \\frac{1}{N}\\sum\\nabla_i$ -> set the new weights as $W_{new} = W_{old} + \\eta \\bar{\\nabla}$, where $\\eta$ is a learning speed."
   ]
  },
  {
   "cell_type": "markdown",
   "metadata": {},
   "source": [
    "## Dataset - MNIST handwritten digits\n"
   ]
  },
  {
   "cell_type": "markdown",
   "metadata": {},
   "source": [
    "<img src=\"mnist_network.png\" alt=\"Drawing\" style=\"width: 600px;\"/>"
   ]
  },
  {
   "cell_type": "markdown",
   "metadata": {},
   "source": [
    "### Load MNIST the dataset from web"
   ]
  },
  {
   "cell_type": "code",
   "execution_count": 137,
   "metadata": {},
   "outputs": [],
   "source": [
    "# Load data from https://www.openml.org/d/554\n",
    "X, y = fetch_openml('mnist_784', version=1, return_X_y=True)\n",
    "X = X / 255.\n",
    "\n",
    "train_X, val_X, train_y, val_y = train_test_split(X, y)"
   ]
  },
  {
   "cell_type": "markdown",
   "metadata": {},
   "source": [
    "### Fit the MLP classifier to the data"
   ]
  },
  {
   "cell_type": "code",
   "execution_count": 151,
   "metadata": {},
   "outputs": [
    {
     "name": "stdout",
     "output_type": "stream",
     "text": [
      "Iteration 1, loss = 0.33761426\n",
      "Iteration 2, loss = 0.15967946\n",
      "Iteration 3, loss = 0.11584609\n",
      "Iteration 4, loss = 0.09466358\n",
      "Iteration 5, loss = 0.07962885\n",
      "Iteration 6, loss = 0.06791872\n",
      "Iteration 7, loss = 0.05955260\n",
      "Iteration 8, loss = 0.05253346\n",
      "Iteration 9, loss = 0.04665493\n",
      "Iteration 10, loss = 0.04187059\n",
      "Iteration 11, loss = 0.03726223\n",
      "Iteration 12, loss = 0.03377286\n",
      "Iteration 13, loss = 0.02985019\n",
      "Training loss did not improve more than tol=0.050000 for 10 consecutive epochs. Stopping.\n",
      "Training set score: 0.9935428571428572\n",
      "Test set score: 0.9689714285714286\n"
     ]
    }
   ],
   "source": [
    "# FIT THE MultiLayerPerceptron\n",
    "mlp = MLPClassifier(hidden_layer_sizes=(50,), max_iter=20, alpha=1e-4,\n",
    "                    solver='sgd', verbose=10, tol=5e-2, random_state=1,\n",
    "                    learning_rate_init=.1)\n",
    "\n",
    "# train the model\n",
    "mlp.fit(train_X, train_y)\n",
    "print(f\"Training set score: {mlp.score(train_X, train_y)}\")\n",
    "print(f\"Test set score: {mlp.score(val_X, val_y)}\")"
   ]
  },
  {
   "cell_type": "markdown",
   "metadata": {},
   "source": [
    "### Define function for own images"
   ]
  },
  {
   "cell_type": "code",
   "execution_count": 148,
   "metadata": {},
   "outputs": [],
   "source": [
    "def my_img_to_predictors(img_path):\n",
    "    img = Image.open(img_path)\n",
    "    # resize the original img to 28x28 pixel img\n",
    "    img = img.resize((28, 28))\n",
    "    img_arr = np.array(img)\n",
    "    # create a single-channel array\n",
    "    img_arr = np.mean(img_arr, 2)\n",
    "    %matplotlib inline\n",
    "    imshow(1 - img_arr/255)\n",
    "    #flatten the 2-D array to a vector\n",
    "    img_arr = img_arr.flatten()\n",
    "    # normalize the array to [0, 1] interval and invert\n",
    "    img_arr = (1 - img_arr / 255)\n",
    "\n",
    "    return img_arr"
   ]
  },
  {
   "cell_type": "code",
   "execution_count": 150,
   "metadata": {},
   "outputs": [
    {
     "data": {
      "text/plain": [
       "array(['1'], dtype='<U1')"
      ]
     },
     "execution_count": 150,
     "metadata": {},
     "output_type": "execute_result"
    },
    {
     "data": {
      "image/png": "[encoded data removed]",
      "text/plain": [
       "<Figure size 432x288 with 1 Axes>"
      ]
     },
     "metadata": {
      "needs_background": "light"
     },
     "output_type": "display_data"
    }
   ],
   "source": [
    "# let the model fit own images\n",
    "img_path = \"./data/num_2.png\"\n",
    "X_own = my_img_to_predictors(img_path)\n",
    "mlp.predict([X_own])"
   ]
  },
  {
   "cell_type": "markdown",
   "metadata": {},
   "source": [
    "## Sources\n",
    "[Scikit documentation](https://scikit-learn.org/stable/modules/neural_networks_supervised.html)\n",
    "\n",
    "[Wiki](https://en.wikipedia.org/wiki/Artificial_neural_network)\n",
    "\n",
    "[Cool video on backpropagation](https://www.youtube.com/watch?v=tIeHLnjs5U8&t=303s)\n",
    "\n",
    "[Article - adventuresinmachinelearning.com](https://adventuresinmachinelearning.com/neural-networks-tutorial/)"
   ]
  }
 ],
 "metadata": {
  "kernelspec": {
   "display_name": "Python 3",
   "language": "python",
   "name": "python3"
  },
  "language_info": {
   "codemirror_mode": {
    "name": "ipython",
    "version": 3
   },
   "file_extension": ".py",
   "mimetype": "text/x-python",
   "name": "python",
   "nbconvert_exporter": "python",
   "pygments_lexer": "ipython3",
   "version": "3.6.4"
  }
 },
 "nbformat": 4,
 "nbformat_minor": 2
}
